{
 "cells": [
  {
   "cell_type": "markdown",
   "id": "94b2d574",
   "metadata": {
    "deletable": false,
    "editable": false,
    "id": "c81daeeb"
   },
   "source": [
    "# Исследование надежности заемщиков\n"
   ]
  },
  {
   "cell_type": "markdown",
   "id": "c38ef646",
   "metadata": {
    "deletable": false,
    "editable": false,
    "id": "827c20bf"
   },
   "source": [
    "Во второй части проекта вы выполните шаги 3 и 4. Их вручную проверит ревьюер.\n",
    "Чтобы вам не пришлось писать код заново для шагов 1 и 2, мы добавили авторские решения в ячейки с кодом. \n",
    "\n"
   ]
  },
  {
   "cell_type": "markdown",
   "id": "38b4f818",
   "metadata": {
    "deletable": false,
    "editable": false,
    "id": "744d7639"
   },
   "source": [
    "## Откройте таблицу и изучите общую информацию о данных"
   ]
  },
  {
   "cell_type": "markdown",
   "id": "02512762",
   "metadata": {
    "deletable": false,
    "editable": false,
    "id": "e7a14c31"
   },
   "source": [
    "**Задание 1. Импортируйте библиотеку pandas. Считайте данные из csv-файла в датафрейм и сохраните в переменную `data`. Путь к файлу:**\n",
    "\n",
    "`/datasets/data.csv`"
   ]
  },
  {
   "cell_type": "code",
   "execution_count": 1,
   "id": "5ae67d2d",
   "metadata": {
    "deletable": false,
    "id": "7bcf75c9"
   },
   "outputs": [],
   "source": [
    "import pandas as pd\n",
    "\n",
    "try:\n",
    "    data = pd.read_csv('/datasets/data.csv')\n",
    "except:\n",
    "    data = pd.read_csv('https://code.s3.yandex.net/datasets/data.csv')"
   ]
  },
  {
   "cell_type": "markdown",
   "id": "d8bff8f3",
   "metadata": {
    "deletable": false,
    "editable": false,
    "id": "b8038fe3"
   },
   "source": [
    "**Задание 2. Выведите первые 20 строчек датафрейма `data` на экран.**"
   ]
  },
  {
   "cell_type": "code",
   "execution_count": 2,
   "id": "5e37dc94",
   "metadata": {
    "deletable": false,
    "id": "2a7cab99",
    "outputId": "1a8f3ef2-d323-4ec2-ddf7-89670b5944c4",
    "scrolled": true
   },
   "outputs": [
    {
     "data": {
      "text/html": [
       "<div>\n",
       "<style scoped>\n",
       "    .dataframe tbody tr th:only-of-type {\n",
       "        vertical-align: middle;\n",
       "    }\n",
       "\n",
       "    .dataframe tbody tr th {\n",
       "        vertical-align: top;\n",
       "    }\n",
       "\n",
       "    .dataframe thead th {\n",
       "        text-align: right;\n",
       "    }\n",
       "</style>\n",
       "<table border=\"1\" class=\"dataframe\">\n",
       "  <thead>\n",
       "    <tr style=\"text-align: right;\">\n",
       "      <th></th>\n",
       "      <th>children</th>\n",
       "      <th>days_employed</th>\n",
       "      <th>dob_years</th>\n",
       "      <th>education</th>\n",
       "      <th>education_id</th>\n",
       "      <th>family_status</th>\n",
       "      <th>family_status_id</th>\n",
       "      <th>gender</th>\n",
       "      <th>income_type</th>\n",
       "      <th>debt</th>\n",
       "      <th>total_income</th>\n",
       "      <th>purpose</th>\n",
       "    </tr>\n",
       "  </thead>\n",
       "  <tbody>\n",
       "    <tr>\n",
       "      <th>0</th>\n",
       "      <td>1</td>\n",
       "      <td>-8437.673028</td>\n",
       "      <td>42</td>\n",
       "      <td>высшее</td>\n",
       "      <td>0</td>\n",
       "      <td>женат / замужем</td>\n",
       "      <td>0</td>\n",
       "      <td>F</td>\n",
       "      <td>сотрудник</td>\n",
       "      <td>0</td>\n",
       "      <td>253875.639453</td>\n",
       "      <td>покупка жилья</td>\n",
       "    </tr>\n",
       "    <tr>\n",
       "      <th>1</th>\n",
       "      <td>1</td>\n",
       "      <td>-4024.803754</td>\n",
       "      <td>36</td>\n",
       "      <td>среднее</td>\n",
       "      <td>1</td>\n",
       "      <td>женат / замужем</td>\n",
       "      <td>0</td>\n",
       "      <td>F</td>\n",
       "      <td>сотрудник</td>\n",
       "      <td>0</td>\n",
       "      <td>112080.014102</td>\n",
       "      <td>приобретение автомобиля</td>\n",
       "    </tr>\n",
       "    <tr>\n",
       "      <th>2</th>\n",
       "      <td>0</td>\n",
       "      <td>-5623.422610</td>\n",
       "      <td>33</td>\n",
       "      <td>Среднее</td>\n",
       "      <td>1</td>\n",
       "      <td>женат / замужем</td>\n",
       "      <td>0</td>\n",
       "      <td>M</td>\n",
       "      <td>сотрудник</td>\n",
       "      <td>0</td>\n",
       "      <td>145885.952297</td>\n",
       "      <td>покупка жилья</td>\n",
       "    </tr>\n",
       "    <tr>\n",
       "      <th>3</th>\n",
       "      <td>3</td>\n",
       "      <td>-4124.747207</td>\n",
       "      <td>32</td>\n",
       "      <td>среднее</td>\n",
       "      <td>1</td>\n",
       "      <td>женат / замужем</td>\n",
       "      <td>0</td>\n",
       "      <td>M</td>\n",
       "      <td>сотрудник</td>\n",
       "      <td>0</td>\n",
       "      <td>267628.550329</td>\n",
       "      <td>дополнительное образование</td>\n",
       "    </tr>\n",
       "    <tr>\n",
       "      <th>4</th>\n",
       "      <td>0</td>\n",
       "      <td>340266.072047</td>\n",
       "      <td>53</td>\n",
       "      <td>среднее</td>\n",
       "      <td>1</td>\n",
       "      <td>гражданский брак</td>\n",
       "      <td>1</td>\n",
       "      <td>F</td>\n",
       "      <td>пенсионер</td>\n",
       "      <td>0</td>\n",
       "      <td>158616.077870</td>\n",
       "      <td>сыграть свадьбу</td>\n",
       "    </tr>\n",
       "    <tr>\n",
       "      <th>5</th>\n",
       "      <td>0</td>\n",
       "      <td>-926.185831</td>\n",
       "      <td>27</td>\n",
       "      <td>высшее</td>\n",
       "      <td>0</td>\n",
       "      <td>гражданский брак</td>\n",
       "      <td>1</td>\n",
       "      <td>M</td>\n",
       "      <td>компаньон</td>\n",
       "      <td>0</td>\n",
       "      <td>255763.565419</td>\n",
       "      <td>покупка жилья</td>\n",
       "    </tr>\n",
       "    <tr>\n",
       "      <th>6</th>\n",
       "      <td>0</td>\n",
       "      <td>-2879.202052</td>\n",
       "      <td>43</td>\n",
       "      <td>высшее</td>\n",
       "      <td>0</td>\n",
       "      <td>женат / замужем</td>\n",
       "      <td>0</td>\n",
       "      <td>F</td>\n",
       "      <td>компаньон</td>\n",
       "      <td>0</td>\n",
       "      <td>240525.971920</td>\n",
       "      <td>операции с жильем</td>\n",
       "    </tr>\n",
       "    <tr>\n",
       "      <th>7</th>\n",
       "      <td>0</td>\n",
       "      <td>-152.779569</td>\n",
       "      <td>50</td>\n",
       "      <td>СРЕДНЕЕ</td>\n",
       "      <td>1</td>\n",
       "      <td>женат / замужем</td>\n",
       "      <td>0</td>\n",
       "      <td>M</td>\n",
       "      <td>сотрудник</td>\n",
       "      <td>0</td>\n",
       "      <td>135823.934197</td>\n",
       "      <td>образование</td>\n",
       "    </tr>\n",
       "    <tr>\n",
       "      <th>8</th>\n",
       "      <td>2</td>\n",
       "      <td>-6929.865299</td>\n",
       "      <td>35</td>\n",
       "      <td>ВЫСШЕЕ</td>\n",
       "      <td>0</td>\n",
       "      <td>гражданский брак</td>\n",
       "      <td>1</td>\n",
       "      <td>F</td>\n",
       "      <td>сотрудник</td>\n",
       "      <td>0</td>\n",
       "      <td>95856.832424</td>\n",
       "      <td>на проведение свадьбы</td>\n",
       "    </tr>\n",
       "    <tr>\n",
       "      <th>9</th>\n",
       "      <td>0</td>\n",
       "      <td>-2188.756445</td>\n",
       "      <td>41</td>\n",
       "      <td>среднее</td>\n",
       "      <td>1</td>\n",
       "      <td>женат / замужем</td>\n",
       "      <td>0</td>\n",
       "      <td>M</td>\n",
       "      <td>сотрудник</td>\n",
       "      <td>0</td>\n",
       "      <td>144425.938277</td>\n",
       "      <td>покупка жилья для семьи</td>\n",
       "    </tr>\n",
       "    <tr>\n",
       "      <th>10</th>\n",
       "      <td>2</td>\n",
       "      <td>-4171.483647</td>\n",
       "      <td>36</td>\n",
       "      <td>высшее</td>\n",
       "      <td>0</td>\n",
       "      <td>женат / замужем</td>\n",
       "      <td>0</td>\n",
       "      <td>M</td>\n",
       "      <td>компаньон</td>\n",
       "      <td>0</td>\n",
       "      <td>113943.491460</td>\n",
       "      <td>покупка недвижимости</td>\n",
       "    </tr>\n",
       "    <tr>\n",
       "      <th>11</th>\n",
       "      <td>0</td>\n",
       "      <td>-792.701887</td>\n",
       "      <td>40</td>\n",
       "      <td>среднее</td>\n",
       "      <td>1</td>\n",
       "      <td>женат / замужем</td>\n",
       "      <td>0</td>\n",
       "      <td>F</td>\n",
       "      <td>сотрудник</td>\n",
       "      <td>0</td>\n",
       "      <td>77069.234271</td>\n",
       "      <td>покупка коммерческой недвижимости</td>\n",
       "    </tr>\n",
       "    <tr>\n",
       "      <th>12</th>\n",
       "      <td>0</td>\n",
       "      <td>NaN</td>\n",
       "      <td>65</td>\n",
       "      <td>среднее</td>\n",
       "      <td>1</td>\n",
       "      <td>гражданский брак</td>\n",
       "      <td>1</td>\n",
       "      <td>M</td>\n",
       "      <td>пенсионер</td>\n",
       "      <td>0</td>\n",
       "      <td>NaN</td>\n",
       "      <td>сыграть свадьбу</td>\n",
       "    </tr>\n",
       "    <tr>\n",
       "      <th>13</th>\n",
       "      <td>0</td>\n",
       "      <td>-1846.641941</td>\n",
       "      <td>54</td>\n",
       "      <td>неоконченное высшее</td>\n",
       "      <td>2</td>\n",
       "      <td>женат / замужем</td>\n",
       "      <td>0</td>\n",
       "      <td>F</td>\n",
       "      <td>сотрудник</td>\n",
       "      <td>0</td>\n",
       "      <td>130458.228857</td>\n",
       "      <td>приобретение автомобиля</td>\n",
       "    </tr>\n",
       "    <tr>\n",
       "      <th>14</th>\n",
       "      <td>0</td>\n",
       "      <td>-1844.956182</td>\n",
       "      <td>56</td>\n",
       "      <td>высшее</td>\n",
       "      <td>0</td>\n",
       "      <td>гражданский брак</td>\n",
       "      <td>1</td>\n",
       "      <td>F</td>\n",
       "      <td>компаньон</td>\n",
       "      <td>1</td>\n",
       "      <td>165127.911772</td>\n",
       "      <td>покупка жилой недвижимости</td>\n",
       "    </tr>\n",
       "    <tr>\n",
       "      <th>15</th>\n",
       "      <td>1</td>\n",
       "      <td>-972.364419</td>\n",
       "      <td>26</td>\n",
       "      <td>среднее</td>\n",
       "      <td>1</td>\n",
       "      <td>женат / замужем</td>\n",
       "      <td>0</td>\n",
       "      <td>F</td>\n",
       "      <td>сотрудник</td>\n",
       "      <td>0</td>\n",
       "      <td>116820.904450</td>\n",
       "      <td>строительство собственной недвижимости</td>\n",
       "    </tr>\n",
       "    <tr>\n",
       "      <th>16</th>\n",
       "      <td>0</td>\n",
       "      <td>-1719.934226</td>\n",
       "      <td>35</td>\n",
       "      <td>среднее</td>\n",
       "      <td>1</td>\n",
       "      <td>женат / замужем</td>\n",
       "      <td>0</td>\n",
       "      <td>F</td>\n",
       "      <td>сотрудник</td>\n",
       "      <td>0</td>\n",
       "      <td>289202.704229</td>\n",
       "      <td>недвижимость</td>\n",
       "    </tr>\n",
       "    <tr>\n",
       "      <th>17</th>\n",
       "      <td>0</td>\n",
       "      <td>-2369.999720</td>\n",
       "      <td>33</td>\n",
       "      <td>высшее</td>\n",
       "      <td>0</td>\n",
       "      <td>гражданский брак</td>\n",
       "      <td>1</td>\n",
       "      <td>M</td>\n",
       "      <td>сотрудник</td>\n",
       "      <td>0</td>\n",
       "      <td>90410.586745</td>\n",
       "      <td>строительство недвижимости</td>\n",
       "    </tr>\n",
       "    <tr>\n",
       "      <th>18</th>\n",
       "      <td>0</td>\n",
       "      <td>400281.136913</td>\n",
       "      <td>53</td>\n",
       "      <td>среднее</td>\n",
       "      <td>1</td>\n",
       "      <td>вдовец / вдова</td>\n",
       "      <td>2</td>\n",
       "      <td>F</td>\n",
       "      <td>пенсионер</td>\n",
       "      <td>0</td>\n",
       "      <td>56823.777243</td>\n",
       "      <td>на покупку подержанного автомобиля</td>\n",
       "    </tr>\n",
       "    <tr>\n",
       "      <th>19</th>\n",
       "      <td>0</td>\n",
       "      <td>-10038.818549</td>\n",
       "      <td>48</td>\n",
       "      <td>СРЕДНЕЕ</td>\n",
       "      <td>1</td>\n",
       "      <td>в разводе</td>\n",
       "      <td>3</td>\n",
       "      <td>F</td>\n",
       "      <td>сотрудник</td>\n",
       "      <td>0</td>\n",
       "      <td>242831.107982</td>\n",
       "      <td>на покупку своего автомобиля</td>\n",
       "    </tr>\n",
       "  </tbody>\n",
       "</table>\n",
       "</div>"
      ],
      "text/plain": [
       "    children  days_employed  dob_years            education  education_id  \\\n",
       "0          1   -8437.673028         42               высшее             0   \n",
       "1          1   -4024.803754         36              среднее             1   \n",
       "2          0   -5623.422610         33              Среднее             1   \n",
       "3          3   -4124.747207         32              среднее             1   \n",
       "4          0  340266.072047         53              среднее             1   \n",
       "5          0    -926.185831         27               высшее             0   \n",
       "6          0   -2879.202052         43               высшее             0   \n",
       "7          0    -152.779569         50              СРЕДНЕЕ             1   \n",
       "8          2   -6929.865299         35               ВЫСШЕЕ             0   \n",
       "9          0   -2188.756445         41              среднее             1   \n",
       "10         2   -4171.483647         36               высшее             0   \n",
       "11         0    -792.701887         40              среднее             1   \n",
       "12         0            NaN         65              среднее             1   \n",
       "13         0   -1846.641941         54  неоконченное высшее             2   \n",
       "14         0   -1844.956182         56               высшее             0   \n",
       "15         1    -972.364419         26              среднее             1   \n",
       "16         0   -1719.934226         35              среднее             1   \n",
       "17         0   -2369.999720         33               высшее             0   \n",
       "18         0  400281.136913         53              среднее             1   \n",
       "19         0  -10038.818549         48              СРЕДНЕЕ             1   \n",
       "\n",
       "       family_status  family_status_id gender income_type  debt  \\\n",
       "0    женат / замужем                 0      F   сотрудник     0   \n",
       "1    женат / замужем                 0      F   сотрудник     0   \n",
       "2    женат / замужем                 0      M   сотрудник     0   \n",
       "3    женат / замужем                 0      M   сотрудник     0   \n",
       "4   гражданский брак                 1      F   пенсионер     0   \n",
       "5   гражданский брак                 1      M   компаньон     0   \n",
       "6    женат / замужем                 0      F   компаньон     0   \n",
       "7    женат / замужем                 0      M   сотрудник     0   \n",
       "8   гражданский брак                 1      F   сотрудник     0   \n",
       "9    женат / замужем                 0      M   сотрудник     0   \n",
       "10   женат / замужем                 0      M   компаньон     0   \n",
       "11   женат / замужем                 0      F   сотрудник     0   \n",
       "12  гражданский брак                 1      M   пенсионер     0   \n",
       "13   женат / замужем                 0      F   сотрудник     0   \n",
       "14  гражданский брак                 1      F   компаньон     1   \n",
       "15   женат / замужем                 0      F   сотрудник     0   \n",
       "16   женат / замужем                 0      F   сотрудник     0   \n",
       "17  гражданский брак                 1      M   сотрудник     0   \n",
       "18    вдовец / вдова                 2      F   пенсионер     0   \n",
       "19         в разводе                 3      F   сотрудник     0   \n",
       "\n",
       "     total_income                                 purpose  \n",
       "0   253875.639453                           покупка жилья  \n",
       "1   112080.014102                 приобретение автомобиля  \n",
       "2   145885.952297                           покупка жилья  \n",
       "3   267628.550329              дополнительное образование  \n",
       "4   158616.077870                         сыграть свадьбу  \n",
       "5   255763.565419                           покупка жилья  \n",
       "6   240525.971920                       операции с жильем  \n",
       "7   135823.934197                             образование  \n",
       "8    95856.832424                   на проведение свадьбы  \n",
       "9   144425.938277                 покупка жилья для семьи  \n",
       "10  113943.491460                    покупка недвижимости  \n",
       "11   77069.234271       покупка коммерческой недвижимости  \n",
       "12            NaN                         сыграть свадьбу  \n",
       "13  130458.228857                 приобретение автомобиля  \n",
       "14  165127.911772              покупка жилой недвижимости  \n",
       "15  116820.904450  строительство собственной недвижимости  \n",
       "16  289202.704229                            недвижимость  \n",
       "17   90410.586745              строительство недвижимости  \n",
       "18   56823.777243      на покупку подержанного автомобиля  \n",
       "19  242831.107982            на покупку своего автомобиля  "
      ]
     },
     "execution_count": 2,
     "metadata": {},
     "output_type": "execute_result"
    }
   ],
   "source": [
    "data.head(20)"
   ]
  },
  {
   "cell_type": "markdown",
   "id": "7c63b950",
   "metadata": {
    "deletable": false,
    "editable": false,
    "id": "1c12e233"
   },
   "source": [
    "**Задание 3. Выведите основную информацию о датафрейме с помощью метода `info()`.**"
   ]
  },
  {
   "cell_type": "code",
   "execution_count": 3,
   "id": "b644a8a0",
   "metadata": {
    "deletable": false,
    "id": "2b757bca",
    "outputId": "15376089-8dad-46c9-b520-c05248d43158",
    "scrolled": true
   },
   "outputs": [
    {
     "name": "stdout",
     "output_type": "stream",
     "text": [
      "<class 'pandas.core.frame.DataFrame'>\n",
      "RangeIndex: 21525 entries, 0 to 21524\n",
      "Data columns (total 12 columns):\n",
      " #   Column            Non-Null Count  Dtype  \n",
      "---  ------            --------------  -----  \n",
      " 0   children          21525 non-null  int64  \n",
      " 1   days_employed     19351 non-null  float64\n",
      " 2   dob_years         21525 non-null  int64  \n",
      " 3   education         21525 non-null  object \n",
      " 4   education_id      21525 non-null  int64  \n",
      " 5   family_status     21525 non-null  object \n",
      " 6   family_status_id  21525 non-null  int64  \n",
      " 7   gender            21525 non-null  object \n",
      " 8   income_type       21525 non-null  object \n",
      " 9   debt              21525 non-null  int64  \n",
      " 10  total_income      19351 non-null  float64\n",
      " 11  purpose           21525 non-null  object \n",
      "dtypes: float64(2), int64(5), object(5)\n",
      "memory usage: 2.0+ MB\n"
     ]
    }
   ],
   "source": [
    "data.info()"
   ]
  },
  {
   "cell_type": "markdown",
   "id": "df3bae3b",
   "metadata": {
    "deletable": false,
    "editable": false,
    "id": "333ec665"
   },
   "source": [
    "## Предобработка данных"
   ]
  },
  {
   "cell_type": "markdown",
   "id": "652f3990",
   "metadata": {
    "deletable": false,
    "editable": false,
    "id": "02d92d53"
   },
   "source": [
    "### Удаление пропусков"
   ]
  },
  {
   "cell_type": "markdown",
   "id": "1d317173",
   "metadata": {
    "deletable": false,
    "editable": false,
    "id": "cd84967c"
   },
   "source": [
    "**Задание 4. Выведите количество пропущенных значений для каждого столбца. Используйте комбинацию двух методов.**"
   ]
  },
  {
   "cell_type": "code",
   "execution_count": 4,
   "id": "5daf99ef",
   "metadata": {
    "deletable": false,
    "id": "7f9b2309",
    "outputId": "81f4d817-781c-465c-ed15-91ce4446810d",
    "scrolled": true
   },
   "outputs": [
    {
     "data": {
      "text/plain": [
       "children               0\n",
       "days_employed       2174\n",
       "dob_years              0\n",
       "education              0\n",
       "education_id           0\n",
       "family_status          0\n",
       "family_status_id       0\n",
       "gender                 0\n",
       "income_type            0\n",
       "debt                   0\n",
       "total_income        2174\n",
       "purpose                0\n",
       "dtype: int64"
      ]
     },
     "execution_count": 4,
     "metadata": {},
     "output_type": "execute_result"
    }
   ],
   "source": [
    "data.isna().sum()"
   ]
  },
  {
   "cell_type": "markdown",
   "id": "dbab18d9",
   "metadata": {
    "deletable": false,
    "editable": false,
    "id": "db86e27b"
   },
   "source": [
    "**Задание 5. В двух столбцах есть пропущенные значения. Один из них — `days_employed`. Пропуски в этом столбце вы обработаете на следующем этапе. Другой столбец с пропущенными значениями — `total_income` — хранит данные о доходах. На сумму дохода сильнее всего влияет тип занятости, поэтому заполнить пропуски в этом столбце нужно медианным значением по каждому типу из столбца `income_type`. Например, у человека с типом занятости `сотрудник` пропуск в столбце `total_income` должен быть заполнен медианным доходом среди всех записей с тем же типом.**"
   ]
  },
  {
   "cell_type": "code",
   "execution_count": 5,
   "id": "2848fc50",
   "metadata": {
    "deletable": false,
    "id": "42006a93"
   },
   "outputs": [],
   "source": [
    "for t in data['income_type'].unique():\n",
    "    data.loc[(data['income_type'] == t) & (data['total_income'].isna()), 'total_income'] = \\\n",
    "    data.loc[(data['income_type'] == t), 'total_income'].median()"
   ]
  },
  {
   "cell_type": "markdown",
   "id": "c77b0a9a",
   "metadata": {
    "deletable": false,
    "editable": false,
    "id": "89da5ece"
   },
   "source": [
    "### Обработка аномальных значений"
   ]
  },
  {
   "cell_type": "markdown",
   "id": "2255bcc8",
   "metadata": {
    "deletable": false,
    "editable": false,
    "id": "57964554"
   },
   "source": [
    "**Задание 6. В данных могут встречаться артефакты (аномалии) — значения, которые не отражают действительность и появились по какой-то ошибке. таким артефактом будет отрицательное количество дней трудового стажа в столбце `days_employed`. Для реальных данных это нормально. Обработайте значения в этом столбце: замените все отрицательные значения положительными с помощью метода `abs()`.**"
   ]
  },
  {
   "cell_type": "code",
   "execution_count": 6,
   "id": "e27df88b",
   "metadata": {
    "deletable": false,
    "id": "f6f055bf"
   },
   "outputs": [],
   "source": [
    "data['days_employed'] = data['days_employed'].abs()"
   ]
  },
  {
   "cell_type": "markdown",
   "id": "ee8e3190",
   "metadata": {
    "deletable": false,
    "editable": false,
    "id": "6107dd2f"
   },
   "source": [
    "**Задание 7. Для каждого типа занятости выведите медианное значение трудового стажа `days_employed` в днях.**"
   ]
  },
  {
   "cell_type": "code",
   "execution_count": 7,
   "id": "047789e2",
   "metadata": {
    "deletable": false,
    "id": "85a5faf6",
    "outputId": "801ef80e-522b-4668-f34e-565af7432bcf"
   },
   "outputs": [
    {
     "data": {
      "text/plain": [
       "income_type\n",
       "безработный        366413.652744\n",
       "в декрете            3296.759962\n",
       "госслужащий          2689.368353\n",
       "компаньон            1547.382223\n",
       "пенсионер          365213.306266\n",
       "предприниматель       520.848083\n",
       "сотрудник            1574.202821\n",
       "студент               578.751554\n",
       "Name: days_employed, dtype: float64"
      ]
     },
     "execution_count": 7,
     "metadata": {},
     "output_type": "execute_result"
    }
   ],
   "source": [
    "data.groupby('income_type')['days_employed'].agg('median')"
   ]
  },
  {
   "cell_type": "markdown",
   "id": "13cb3714",
   "metadata": {
    "deletable": false,
    "editable": false,
    "id": "38d1a030"
   },
   "source": [
    "У двух типов (безработные и пенсионеры) получатся аномально большие значения. Исправить такие значения сложно, поэтому оставьте их как есть. Тем более этот столбец не понадобится вам для исследования."
   ]
  },
  {
   "cell_type": "markdown",
   "id": "b04a6569",
   "metadata": {
    "deletable": false,
    "editable": false,
    "id": "d8a9f147"
   },
   "source": [
    "**Задание 8. Выведите перечень уникальных значений столбца `children`.**"
   ]
  },
  {
   "cell_type": "code",
   "execution_count": 8,
   "id": "6b974e08",
   "metadata": {
    "deletable": false,
    "id": "ef5056eb",
    "outputId": "6975b15c-7f95-4697-d16d-a0c79b657b03"
   },
   "outputs": [
    {
     "data": {
      "text/plain": [
       "array([ 1,  0,  3,  2, -1,  4, 20,  5])"
      ]
     },
     "execution_count": 8,
     "metadata": {},
     "output_type": "execute_result"
    }
   ],
   "source": [
    "data['children'].unique()"
   ]
  },
  {
   "cell_type": "markdown",
   "id": "d40f218e",
   "metadata": {
    "deletable": false,
    "editable": false,
    "id": "40b9ebf2"
   },
   "source": [
    "**Задание 9. В столбце `children` есть два аномальных значения. Удалите строки, в которых встречаются такие аномальные значения из датафрейма `data`.**"
   ]
  },
  {
   "cell_type": "code",
   "execution_count": 9,
   "id": "08c3de1b",
   "metadata": {
    "deletable": false,
    "id": "3ff9801d"
   },
   "outputs": [],
   "source": [
    "data = data[(data['children'] != -1) & (data['children'] != 20)]"
   ]
  },
  {
   "cell_type": "markdown",
   "id": "7f5d2c2e",
   "metadata": {
    "deletable": false,
    "editable": false,
    "id": "bbc4d0ce"
   },
   "source": [
    "**Задание 10. Ещё раз выведите перечень уникальных значений столбца `children`, чтобы убедиться, что артефакты удалены.**"
   ]
  },
  {
   "cell_type": "code",
   "execution_count": 10,
   "id": "32e076f5",
   "metadata": {
    "deletable": false,
    "id": "ad4fa8b7",
    "outputId": "b2097101-d49d-44d9-901b-32a65c9463d1"
   },
   "outputs": [
    {
     "data": {
      "text/plain": [
       "array([1, 0, 3, 2, 4, 5])"
      ]
     },
     "execution_count": 10,
     "metadata": {},
     "output_type": "execute_result"
    }
   ],
   "source": [
    "data['children'].unique()"
   ]
  },
  {
   "cell_type": "markdown",
   "id": "08ba9e54",
   "metadata": {
    "deletable": false,
    "editable": false,
    "id": "75440b63"
   },
   "source": [
    "### Удаление пропусков (продолжение)"
   ]
  },
  {
   "cell_type": "markdown",
   "id": "c1be4e32",
   "metadata": {
    "deletable": false,
    "editable": false,
    "id": "f4ea573f"
   },
   "source": [
    "**Задание 11. Заполните пропуски в столбце `days_employed` медианными значениями по каждого типа занятости `income_type`.**"
   ]
  },
  {
   "cell_type": "code",
   "execution_count": 11,
   "id": "52a95543",
   "metadata": {
    "deletable": false,
    "id": "af6b1a7e"
   },
   "outputs": [],
   "source": [
    "for t in data['income_type'].unique():\n",
    "    data.loc[(data['income_type'] == t) & (data['days_employed'].isna()), 'days_employed'] = \\\n",
    "    data.loc[(data['income_type'] == t), 'days_employed'].median()"
   ]
  },
  {
   "cell_type": "markdown",
   "id": "c1fc885c",
   "metadata": {
    "deletable": false,
    "editable": false,
    "id": "2753f40d"
   },
   "source": [
    "**Задание 12. Убедитесь, что все пропуски заполнены. Проверьте себя и ещё раз выведите количество пропущенных значений для каждого столбца с помощью двух методов.**"
   ]
  },
  {
   "cell_type": "code",
   "execution_count": 12,
   "id": "2e34a7f1",
   "metadata": {
    "deletable": false,
    "id": "55f78bc2",
    "outputId": "8da1e4e1-358e-4e87-98c9-f261bce0a7b2"
   },
   "outputs": [
    {
     "data": {
      "text/plain": [
       "children            0\n",
       "days_employed       0\n",
       "dob_years           0\n",
       "education           0\n",
       "education_id        0\n",
       "family_status       0\n",
       "family_status_id    0\n",
       "gender              0\n",
       "income_type         0\n",
       "debt                0\n",
       "total_income        0\n",
       "purpose             0\n",
       "dtype: int64"
      ]
     },
     "execution_count": 12,
     "metadata": {},
     "output_type": "execute_result"
    }
   ],
   "source": [
    "data.isna().sum()"
   ]
  },
  {
   "cell_type": "markdown",
   "id": "e2d1d411",
   "metadata": {
    "deletable": false,
    "editable": false,
    "id": "ddc81e43"
   },
   "source": [
    "### Изменение типов данных"
   ]
  },
  {
   "cell_type": "markdown",
   "id": "95a208c6",
   "metadata": {
    "deletable": false,
    "editable": false,
    "id": "42d19d24"
   },
   "source": [
    "**Задание 13. Замените вещественный тип данных в столбце `total_income` на целочисленный с помощью метода `astype()`.**"
   ]
  },
  {
   "cell_type": "code",
   "execution_count": 13,
   "id": "f8fb449b",
   "metadata": {
    "deletable": false,
    "id": "920b65ad"
   },
   "outputs": [],
   "source": [
    "data['total_income'] = data['total_income'].astype(int)"
   ]
  },
  {
   "cell_type": "markdown",
   "id": "0473a9cf",
   "metadata": {
    "deletable": false,
    "editable": false,
    "id": "80c420ba"
   },
   "source": [
    "### Обработка дубликатов"
   ]
  },
  {
   "cell_type": "markdown",
   "id": "08d0847b",
   "metadata": {
    "deletable": false,
    "editable": false
   },
   "source": [
    "**Задание 14. Обработайте неявные дубликаты в столбце `education`. В этом столбце есть одни и те же значения, но записанные по-разному: с использованием заглавных и строчных букв. Приведите их к нижнему регистру. Проверьте остальные столбцы.**"
   ]
  },
  {
   "cell_type": "code",
   "execution_count": 14,
   "id": "10584971",
   "metadata": {
    "deletable": false
   },
   "outputs": [],
   "source": [
    "data['education'] = data['education'].str.lower()"
   ]
  },
  {
   "cell_type": "markdown",
   "id": "8a3bbdc3",
   "metadata": {
    "deletable": false,
    "editable": false,
    "id": "dc587695"
   },
   "source": [
    "**Задание 15. Выведите на экран количество строк-дубликатов в данных. Если такие строки присутствуют, удалите их.**"
   ]
  },
  {
   "cell_type": "code",
   "execution_count": 15,
   "id": "bde65709",
   "metadata": {
    "deletable": false,
    "id": "3ee445e4",
    "outputId": "9684deba-1934-42d1-99e1-cda61740f822"
   },
   "outputs": [
    {
     "data": {
      "text/plain": [
       "71"
      ]
     },
     "execution_count": 15,
     "metadata": {},
     "output_type": "execute_result"
    }
   ],
   "source": [
    "data.duplicated().sum()"
   ]
  },
  {
   "cell_type": "code",
   "execution_count": 16,
   "id": "091946c3",
   "metadata": {
    "deletable": false,
    "id": "8575fe05"
   },
   "outputs": [],
   "source": [
    "data = data.drop_duplicates()"
   ]
  },
  {
   "cell_type": "markdown",
   "id": "4dcad542",
   "metadata": {
    "deletable": false,
    "editable": false,
    "id": "9904cf55"
   },
   "source": [
    "### Категоризация данных"
   ]
  },
  {
   "cell_type": "markdown",
   "id": "54232e86",
   "metadata": {
    "deletable": false,
    "editable": false,
    "id": "72fcc8a2"
   },
   "source": [
    "**Задание 16. На основании диапазонов, указанных ниже, создайте в датафрейме `data` столбец `total_income_category` с категориями:**\n",
    "\n",
    "- 0–30000 — `'E'`;\n",
    "- 30001–50000 — `'D'`;\n",
    "- 50001–200000 — `'C'`;\n",
    "- 200001–1000000 — `'B'`;\n",
    "- 1000001 и выше — `'A'`.\n",
    "\n",
    "\n",
    "**Например, кредитополучателю с доходом 25000 нужно назначить категорию `'E'`, а клиенту, получающему 235000, — `'B'`. Используйте собственную функцию с именем `categorize_income()` и метод `apply()`.**"
   ]
  },
  {
   "cell_type": "code",
   "execution_count": 17,
   "id": "36c83fce",
   "metadata": {
    "deletable": false,
    "id": "e1771346"
   },
   "outputs": [],
   "source": [
    "def categorize_income(income):\n",
    "    try:\n",
    "        if 0 <= income <= 30000:\n",
    "            return 'E'\n",
    "        elif 30001 <= income <= 50000:\n",
    "            return 'D'\n",
    "        elif 50001 <= income <= 200000:\n",
    "            return 'C'\n",
    "        elif 200001 <= income <= 1000000:\n",
    "            return 'B'\n",
    "        elif income >= 1000001:\n",
    "            return 'A'\n",
    "    except:\n",
    "        pass"
   ]
  },
  {
   "cell_type": "code",
   "execution_count": 18,
   "id": "f3430836",
   "metadata": {
    "deletable": false,
    "id": "d5f3586d"
   },
   "outputs": [],
   "source": [
    "data['total_income_category'] = data['total_income'].apply(categorize_income)"
   ]
  },
  {
   "cell_type": "markdown",
   "id": "0378876c",
   "metadata": {
    "deletable": false,
    "editable": false,
    "id": "dde49b5c"
   },
   "source": [
    "**Задание 17. Выведите на экран перечень уникальных целей взятия кредита из столбца `purpose`.**"
   ]
  },
  {
   "cell_type": "code",
   "execution_count": 19,
   "id": "d82c0e5b",
   "metadata": {
    "deletable": false,
    "id": "f67ce9b3",
    "outputId": "673c12d9-7d7e-4ae0-9812-c622c89dd244"
   },
   "outputs": [
    {
     "data": {
      "text/plain": [
       "array(['покупка жилья', 'приобретение автомобиля',\n",
       "       'дополнительное образование', 'сыграть свадьбу',\n",
       "       'операции с жильем', 'образование', 'на проведение свадьбы',\n",
       "       'покупка жилья для семьи', 'покупка недвижимости',\n",
       "       'покупка коммерческой недвижимости', 'покупка жилой недвижимости',\n",
       "       'строительство собственной недвижимости', 'недвижимость',\n",
       "       'строительство недвижимости', 'на покупку подержанного автомобиля',\n",
       "       'на покупку своего автомобиля',\n",
       "       'операции с коммерческой недвижимостью',\n",
       "       'строительство жилой недвижимости', 'жилье',\n",
       "       'операции со своей недвижимостью', 'автомобили',\n",
       "       'заняться образованием', 'сделка с подержанным автомобилем',\n",
       "       'получение образования', 'автомобиль', 'свадьба',\n",
       "       'получение дополнительного образования', 'покупка своего жилья',\n",
       "       'операции с недвижимостью', 'получение высшего образования',\n",
       "       'свой автомобиль', 'сделка с автомобилем',\n",
       "       'профильное образование', 'высшее образование',\n",
       "       'покупка жилья для сдачи', 'на покупку автомобиля', 'ремонт жилью',\n",
       "       'заняться высшим образованием'], dtype=object)"
      ]
     },
     "execution_count": 19,
     "metadata": {},
     "output_type": "execute_result"
    }
   ],
   "source": [
    "data['purpose'].unique()"
   ]
  },
  {
   "cell_type": "markdown",
   "id": "b87536d4",
   "metadata": {
    "deletable": false,
    "editable": false,
    "id": "85d0aef0"
   },
   "source": [
    "**Задание 18. Создайте функцию, которая на основании данных из столбца `purpose` сформирует новый столбец `purpose_category`, в который войдут следующие категории:**\n",
    "\n",
    "- `'операции с автомобилем'`,\n",
    "- `'операции с недвижимостью'`,\n",
    "- `'проведение свадьбы'`,\n",
    "- `'получение образования'`.\n",
    "\n",
    "**Например, если в столбце `purpose` находится подстрока `'на покупку автомобиля'`, то в столбце `purpose_category` должна появиться строка `'операции с автомобилем'`.**\n",
    "\n",
    "**Используйте собственную функцию с именем `categorize_purpose()` и метод `apply()`. Изучите данные в столбце `purpose` и определите, какие подстроки помогут вам правильно определить категорию.**"
   ]
  },
  {
   "cell_type": "code",
   "execution_count": 20,
   "id": "4d0c3862",
   "metadata": {
    "deletable": false,
    "id": "e149fab4"
   },
   "outputs": [],
   "source": [
    "def categorize_purpose(row):\n",
    "    try:\n",
    "        if 'автом' in row:\n",
    "            return 'операции с автомобилем'\n",
    "        elif 'жил' in row or 'недвиж' in row:\n",
    "            return 'операции с недвижимостью'\n",
    "        elif 'свад' in row:\n",
    "            return 'проведение свадьбы'\n",
    "        elif 'образов' in row:\n",
    "            return 'получение образования'\n",
    "    except:\n",
    "        return 'нет категории'"
   ]
  },
  {
   "cell_type": "code",
   "execution_count": 21,
   "id": "4b709d38",
   "metadata": {
    "deletable": false,
    "id": "bf36e69b"
   },
   "outputs": [],
   "source": [
    "data['purpose_category'] = data['purpose'].apply(categorize_purpose)"
   ]
  },
  {
   "cell_type": "markdown",
   "id": "d0a287d1",
   "metadata": {
    "deletable": false,
    "editable": false,
    "id": "09b242bf"
   },
   "source": [
    "### Шаг 3. Исследуйте данные и ответьте на вопросы"
   ]
  },
  {
   "cell_type": "markdown",
   "id": "a768288e",
   "metadata": {
    "deletable": false,
    "editable": false,
    "id": "c5d66278"
   },
   "source": [
    "#### 3.1 Есть ли зависимость между количеством детей и возвратом кредита в срок?"
   ]
  },
  {
   "cell_type": "code",
   "execution_count": 22,
   "id": "36063379",
   "metadata": {
    "deletable": false,
    "id": "2cacfc4a"
   },
   "outputs": [],
   "source": [
    "debtor_with_children = data.groupby('children')['debt'].agg(['count', 'sum', 'mean'])\n",
    "# группируем данные по кол-ву детей и факту задолженности. Через функцию \"agg\" передаем кол-во значений, сумму и среднюю"
   ]
  },
  {
   "cell_type": "code",
   "execution_count": 23,
   "id": "4ba83cb7",
   "metadata": {},
   "outputs": [],
   "source": [
    "debtor_with_children = debtor_with_children.sort_values(by='mean',ascending=False)\n",
    "# сортируем для наглядности"
   ]
  },
  {
   "cell_type": "code",
   "execution_count": 24,
   "id": "fbe58733",
   "metadata": {},
   "outputs": [],
   "source": [
    "debtor_with_children['mean'] = debtor_with_children['mean'].apply('{:2%}'.format)\n",
    "# приводим в нормальный вид"
   ]
  },
  {
   "cell_type": "code",
   "execution_count": 25,
   "id": "bec13a63",
   "metadata": {},
   "outputs": [],
   "source": [
    "debtor_with_children = debtor_with_children.rename(columns={'count':'Заемщики','sum':'Должники','mean':'Процент должников'})"
   ]
  },
  {
   "cell_type": "code",
   "execution_count": 26,
   "id": "235784ce",
   "metadata": {},
   "outputs": [
    {
     "data": {
      "text/html": [
       "<div>\n",
       "<style scoped>\n",
       "    .dataframe tbody tr th:only-of-type {\n",
       "        vertical-align: middle;\n",
       "    }\n",
       "\n",
       "    .dataframe tbody tr th {\n",
       "        vertical-align: top;\n",
       "    }\n",
       "\n",
       "    .dataframe thead th {\n",
       "        text-align: right;\n",
       "    }\n",
       "</style>\n",
       "<table border=\"1\" class=\"dataframe\">\n",
       "  <thead>\n",
       "    <tr style=\"text-align: right;\">\n",
       "      <th></th>\n",
       "      <th>Заемщики</th>\n",
       "      <th>Должники</th>\n",
       "      <th>Процент должников</th>\n",
       "    </tr>\n",
       "    <tr>\n",
       "      <th>children</th>\n",
       "      <th></th>\n",
       "      <th></th>\n",
       "      <th></th>\n",
       "    </tr>\n",
       "  </thead>\n",
       "  <tbody>\n",
       "    <tr>\n",
       "      <th>4</th>\n",
       "      <td>41</td>\n",
       "      <td>4</td>\n",
       "      <td>9.756098%</td>\n",
       "    </tr>\n",
       "    <tr>\n",
       "      <th>2</th>\n",
       "      <td>2052</td>\n",
       "      <td>194</td>\n",
       "      <td>9.454191%</td>\n",
       "    </tr>\n",
       "    <tr>\n",
       "      <th>1</th>\n",
       "      <td>4808</td>\n",
       "      <td>444</td>\n",
       "      <td>9.234609%</td>\n",
       "    </tr>\n",
       "    <tr>\n",
       "      <th>3</th>\n",
       "      <td>330</td>\n",
       "      <td>27</td>\n",
       "      <td>8.181818%</td>\n",
       "    </tr>\n",
       "    <tr>\n",
       "      <th>0</th>\n",
       "      <td>14091</td>\n",
       "      <td>1063</td>\n",
       "      <td>7.543822%</td>\n",
       "    </tr>\n",
       "    <tr>\n",
       "      <th>5</th>\n",
       "      <td>9</td>\n",
       "      <td>0</td>\n",
       "      <td>0.000000%</td>\n",
       "    </tr>\n",
       "  </tbody>\n",
       "</table>\n",
       "</div>"
      ],
      "text/plain": [
       "          Заемщики  Должники Процент должников\n",
       "children                                      \n",
       "4               41         4         9.756098%\n",
       "2             2052       194         9.454191%\n",
       "1             4808       444         9.234609%\n",
       "3              330        27         8.181818%\n",
       "0            14091      1063         7.543822%\n",
       "5                9         0         0.000000%"
      ]
     },
     "metadata": {},
     "output_type": "display_data"
    }
   ],
   "source": [
    "display (debtor_with_children)"
   ]
  },
  {
   "cell_type": "markdown",
   "id": "1a5c469e",
   "metadata": {},
   "source": [
    "Исправил функцию display() на print()"
   ]
  },
  {
   "cell_type": "markdown",
   "id": "fd98269a",
   "metadata": {
    "deletable": false,
    "id": "3a6b99ec"
   },
   "source": [
    "Вывод: Больше всего бросаются в глаза бездетные, у которых дела обстоят лучше всего. А вот о группе с пятью детьми, рано делать вывод, ведь там всего 9 клиентов взявших кредит."
   ]
  },
  {
   "cell_type": "markdown",
   "id": "c4c73380",
   "metadata": {},
   "source": [
    "С ростом количества детей в семьях мы наблюдаем, что процент должников растёт. Скорее всего это связано с непредвиденными расходами на детей."
   ]
  },
  {
   "cell_type": "markdown",
   "id": "30ab9b0c",
   "metadata": {
    "deletable": false,
    "editable": false,
    "id": "97be82ca"
   },
   "source": [
    "#### 3.2 Есть ли зависимость между семейным положением и возвратом кредита в срок?"
   ]
  },
  {
   "cell_type": "code",
   "execution_count": 27,
   "id": "23632b86",
   "metadata": {
    "deletable": false,
    "id": "dc3f7ee8"
   },
   "outputs": [],
   "source": [
    "debtor_family_status = data.groupby('family_status')['debt'].agg(['count', 'sum', 'mean'])"
   ]
  },
  {
   "cell_type": "code",
   "execution_count": 28,
   "id": "8bc4a05b",
   "metadata": {},
   "outputs": [],
   "source": [
    "debtor_family_status['mean'] = debtor_family_status['mean'].apply('{:2%}'.format)"
   ]
  },
  {
   "cell_type": "code",
   "execution_count": 29,
   "id": "5702420c",
   "metadata": {},
   "outputs": [],
   "source": [
    "debtor_family_status = debtor_family_status.sort_values(by='mean',ascending=False)"
   ]
  },
  {
   "cell_type": "code",
   "execution_count": 30,
   "id": "1f595a73",
   "metadata": {},
   "outputs": [],
   "source": [
    "debtor_family_status = debtor_family_status.rename(columns={'count':'Заемщики','sum':'Должники','mean':'Процент должников'})"
   ]
  },
  {
   "cell_type": "code",
   "execution_count": 31,
   "id": "0ce943a3",
   "metadata": {},
   "outputs": [
    {
     "data": {
      "text/html": [
       "<div>\n",
       "<style scoped>\n",
       "    .dataframe tbody tr th:only-of-type {\n",
       "        vertical-align: middle;\n",
       "    }\n",
       "\n",
       "    .dataframe tbody tr th {\n",
       "        vertical-align: top;\n",
       "    }\n",
       "\n",
       "    .dataframe thead th {\n",
       "        text-align: right;\n",
       "    }\n",
       "</style>\n",
       "<table border=\"1\" class=\"dataframe\">\n",
       "  <thead>\n",
       "    <tr style=\"text-align: right;\">\n",
       "      <th></th>\n",
       "      <th>Заемщики</th>\n",
       "      <th>Должники</th>\n",
       "      <th>Процент должников</th>\n",
       "    </tr>\n",
       "    <tr>\n",
       "      <th>family_status</th>\n",
       "      <th></th>\n",
       "      <th></th>\n",
       "      <th></th>\n",
       "    </tr>\n",
       "  </thead>\n",
       "  <tbody>\n",
       "    <tr>\n",
       "      <th>Не женат / не замужем</th>\n",
       "      <td>2796</td>\n",
       "      <td>273</td>\n",
       "      <td>9.763948%</td>\n",
       "    </tr>\n",
       "    <tr>\n",
       "      <th>гражданский брак</th>\n",
       "      <td>4134</td>\n",
       "      <td>385</td>\n",
       "      <td>9.313014%</td>\n",
       "    </tr>\n",
       "    <tr>\n",
       "      <th>женат / замужем</th>\n",
       "      <td>12261</td>\n",
       "      <td>927</td>\n",
       "      <td>7.560558%</td>\n",
       "    </tr>\n",
       "    <tr>\n",
       "      <th>в разводе</th>\n",
       "      <td>1189</td>\n",
       "      <td>84</td>\n",
       "      <td>7.064760%</td>\n",
       "    </tr>\n",
       "    <tr>\n",
       "      <th>вдовец / вдова</th>\n",
       "      <td>951</td>\n",
       "      <td>63</td>\n",
       "      <td>6.624606%</td>\n",
       "    </tr>\n",
       "  </tbody>\n",
       "</table>\n",
       "</div>"
      ],
      "text/plain": [
       "                       Заемщики  Должники Процент должников\n",
       "family_status                                              \n",
       "Не женат / не замужем      2796       273         9.763948%\n",
       "гражданский брак           4134       385         9.313014%\n",
       "женат / замужем           12261       927         7.560558%\n",
       "в разводе                  1189        84         7.064760%\n",
       "вдовец / вдова              951        63         6.624606%"
      ]
     },
     "metadata": {},
     "output_type": "display_data"
    }
   ],
   "source": [
    "display (debtor_family_status)"
   ]
  },
  {
   "cell_type": "markdown",
   "id": "a91a4d27",
   "metadata": {
    "deletable": false,
    "id": "1cef7837"
   },
   "source": [
    "Вывод: Зависимость есть. Так как Заёмщики \"не женат/не замужем\" составляют 9,76 % - больше всех. А Заёмщиеи \"вдовец/вдова\" составляют 6,62 % - меньше всех. \n",
    "Самые безответственные те, кто никогда не был в браке."
   ]
  },
  {
   "cell_type": "markdown",
   "id": "961fc6bf",
   "metadata": {
    "deletable": false,
    "editable": false,
    "id": "1e8b2fca"
   },
   "source": [
    "#### 3.3 Есть ли зависимость между уровнем дохода и возвратом кредита в срок?"
   ]
  },
  {
   "cell_type": "code",
   "execution_count": 32,
   "id": "c56fd1db",
   "metadata": {
    "deletable": false,
    "id": "cd7e3720"
   },
   "outputs": [],
   "source": [
    "debtor_income_category = data.groupby('total_income_category')['debt'].agg(['count', 'sum', 'mean'])\n"
   ]
  },
  {
   "cell_type": "code",
   "execution_count": 33,
   "id": "6d7b302e",
   "metadata": {},
   "outputs": [],
   "source": [
    "debtor_income_category['mean'] = debtor_income_category['mean'].apply('{:2%}'.format)"
   ]
  },
  {
   "cell_type": "code",
   "execution_count": 34,
   "id": "65125d98",
   "metadata": {},
   "outputs": [],
   "source": [
    "debtor_income_category = debtor_income_category.sort_values(by='mean',ascending=False)"
   ]
  },
  {
   "cell_type": "code",
   "execution_count": 35,
   "id": "dbc0f873",
   "metadata": {},
   "outputs": [],
   "source": [
    "debtor_income_category = debtor_income_category.rename(columns={'count':'Заемщики','sum':'Должники','mean':'Процент должников'})"
   ]
  },
  {
   "cell_type": "code",
   "execution_count": 36,
   "id": "f84263c7",
   "metadata": {},
   "outputs": [
    {
     "data": {
      "text/html": [
       "<div>\n",
       "<style scoped>\n",
       "    .dataframe tbody tr th:only-of-type {\n",
       "        vertical-align: middle;\n",
       "    }\n",
       "\n",
       "    .dataframe tbody tr th {\n",
       "        vertical-align: top;\n",
       "    }\n",
       "\n",
       "    .dataframe thead th {\n",
       "        text-align: right;\n",
       "    }\n",
       "</style>\n",
       "<table border=\"1\" class=\"dataframe\">\n",
       "  <thead>\n",
       "    <tr style=\"text-align: right;\">\n",
       "      <th></th>\n",
       "      <th>Заемщики</th>\n",
       "      <th>Должники</th>\n",
       "      <th>Процент должников</th>\n",
       "    </tr>\n",
       "    <tr>\n",
       "      <th>total_income_category</th>\n",
       "      <th></th>\n",
       "      <th></th>\n",
       "      <th></th>\n",
       "    </tr>\n",
       "  </thead>\n",
       "  <tbody>\n",
       "    <tr>\n",
       "      <th>E</th>\n",
       "      <td>22</td>\n",
       "      <td>2</td>\n",
       "      <td>9.090909%</td>\n",
       "    </tr>\n",
       "    <tr>\n",
       "      <th>C</th>\n",
       "      <td>15921</td>\n",
       "      <td>1353</td>\n",
       "      <td>8.498210%</td>\n",
       "    </tr>\n",
       "    <tr>\n",
       "      <th>A</th>\n",
       "      <td>25</td>\n",
       "      <td>2</td>\n",
       "      <td>8.000000%</td>\n",
       "    </tr>\n",
       "    <tr>\n",
       "      <th>B</th>\n",
       "      <td>5014</td>\n",
       "      <td>354</td>\n",
       "      <td>7.060231%</td>\n",
       "    </tr>\n",
       "    <tr>\n",
       "      <th>D</th>\n",
       "      <td>349</td>\n",
       "      <td>21</td>\n",
       "      <td>6.017192%</td>\n",
       "    </tr>\n",
       "  </tbody>\n",
       "</table>\n",
       "</div>"
      ],
      "text/plain": [
       "                       Заемщики  Должники Процент должников\n",
       "total_income_category                                      \n",
       "E                            22         2         9.090909%\n",
       "C                         15921      1353         8.498210%\n",
       "A                            25         2         8.000000%\n",
       "B                          5014       354         7.060231%\n",
       "D                           349        21         6.017192%"
      ]
     },
     "metadata": {},
     "output_type": "display_data"
    }
   ],
   "source": [
    "display (debtor_income_category)"
   ]
  },
  {
   "cell_type": "markdown",
   "id": "02056a0f",
   "metadata": {
    "deletable": false,
    "id": "e8593def"
   },
   "source": [
    "Вывод: Не прослеживается явная зависимость между уровнем дохода и возвратом кредита в срок, поскольку размеры групп не позволяют нам сделать корректный вывод."
   ]
  },
  {
   "cell_type": "markdown",
   "id": "a411811d",
   "metadata": {},
   "source": [
    "В категориях B и C заметны различия, что позволяет сдлеать следующий вывод - заёмщики категории B, реже допускают просроченные платежи, чем заёмщики категории C. Больше доход - меньше незапланированных трат."
   ]
  },
  {
   "cell_type": "markdown",
   "id": "0cc9ac55",
   "metadata": {
    "deletable": false,
    "editable": false,
    "id": "99ecbd1f"
   },
   "source": [
    "#### 3.4 Как разные цели кредита влияют на его возврат в срок?"
   ]
  },
  {
   "cell_type": "code",
   "execution_count": 37,
   "id": "529b12b6",
   "metadata": {
    "deletable": false,
    "id": "2b687290"
   },
   "outputs": [],
   "source": [
    "debtor_purpose = data.groupby('purpose_category')['debt'].agg(['count', 'sum', 'mean'])"
   ]
  },
  {
   "cell_type": "markdown",
   "id": "18b98cc9",
   "metadata": {
    "deletable": false,
    "id": "b4bb2ce6"
   },
   "source": [
    "Вывод: Клиенты, оформившие кредит на операции с недвижимостью, лучше всех возвращают кредит - 7,25 %.\n",
    "Клиенты, оформившие кредит на операции с автомобилем, хуже всех возвращают кредит - 9,34 %."
   ]
  },
  {
   "cell_type": "markdown",
   "id": "d4c83aee",
   "metadata": {
    "deletable": false,
    "editable": false,
    "id": "09c3ac4c"
   },
   "source": [
    "#### 3.5 Приведите возможные причины появления пропусков в исходных данных."
   ]
  },
  {
   "cell_type": "markdown",
   "id": "b56179f0",
   "metadata": {
    "deletable": false,
    "id": "9da2ceda"
   },
   "source": [
    "Ответ: Скорее всего, пропуски возникли случайно, иначе эти люди не получили бы кредит."
   ]
  },
  {
   "cell_type": "markdown",
   "id": "4ec25348",
   "metadata": {
    "deletable": false,
    "editable": false,
    "id": "7b0487d6"
   },
   "source": [
    "#### 3.6 Объясните, почему заполнить пропуски медианным значением — лучшее решение для количественных переменных."
   ]
  },
  {
   "cell_type": "markdown",
   "id": "66cdf4fd",
   "metadata": {
    "deletable": false,
    "id": "7ecf2b8e"
   },
   "source": [
    "Ответ: Среднее значение некорректно характеризует данные в том случае, когда некоторые количественные значения сильно отличаются от большинства других. Медиана даёт более правдоподобную картину."
   ]
  },
  {
   "cell_type": "markdown",
   "id": "23fd01bf",
   "metadata": {
    "deletable": false,
    "editable": false,
    "id": "6db5255a"
   },
   "source": [
    "### Шаг 4: общий вывод."
   ]
  },
  {
   "cell_type": "markdown",
   "id": "1776e485",
   "metadata": {
    "deletable": false,
    "id": "bad65432"
   },
   "source": [
    "В ходе исследования надёжности заемщиков были изучены полученные данные, обработаны и заполнены пропуски, удалены дубликаты и клиенты были объединены в группы по разным параметрам. По итогам проделанной работы по поставленным вопросам можно сделать следующие выводы:\n",
    "\n",
    "Есть ли зависимость между количеством детей и возвратом кредита в срок?\n",
    "\n",
    "Больше всего бросаются в глаза бездетные, у которых дела обстоят лучше всего. А вот о группе с пятью детьми, рано делать вывод, ведь там всего 9 клиентов взявших кредит.\n",
    "\n",
    "Есть ли зависимость между семейным положением и возвратом кредита в срок?\n",
    "\n",
    "Да, семейное положение влияет на возврат кредита в срок.\n",
    "\n",
    "Есть ли зависимость между уровнем дохода и возвратом кредита в срок?\n",
    "\n",
    "Не прослеживается явная зависимость между уровнем дохода и возвратом кредита в срок, поскольку размеры групп не позволяют нам сделать корректный вывод.\n",
    "\n",
    "А если исходить из текущих данных - бездетный вдовец с доходом от 200 000 рублей, вступающий в ипотеку - почти идеальный заёмщик для банка."
   ]
  }
 ],
 "metadata": {
  "ExecuteTimeLog": [
   {
    "duration": 445,
    "start_time": "2024-02-16T14:21:42.625Z"
   },
   {
    "duration": 75,
    "start_time": "2024-02-16T14:21:44.203Z"
   },
   {
    "duration": 78,
    "start_time": "2024-02-16T14:21:47.811Z"
   },
   {
    "duration": 23,
    "start_time": "2024-02-16T14:21:52.841Z"
   },
   {
    "duration": 17,
    "start_time": "2024-02-16T14:22:00.983Z"
   },
   {
    "duration": 12,
    "start_time": "2024-02-16T14:22:05.011Z"
   },
   {
    "duration": 38,
    "start_time": "2024-02-16T14:22:09.572Z"
   },
   {
    "duration": 4,
    "start_time": "2024-02-16T14:22:13.306Z"
   },
   {
    "duration": 8,
    "start_time": "2024-02-16T14:22:15.604Z"
   },
   {
    "duration": 6,
    "start_time": "2024-02-16T14:22:22.638Z"
   },
   {
    "duration": 14,
    "start_time": "2024-02-16T14:22:25.375Z"
   },
   {
    "duration": 4,
    "start_time": "2024-02-16T14:22:29.473Z"
   },
   {
    "duration": 37,
    "start_time": "2024-02-16T14:22:34.090Z"
   },
   {
    "duration": 12,
    "start_time": "2024-02-16T14:22:36.362Z"
   },
   {
    "duration": 4,
    "start_time": "2024-02-16T14:22:38.525Z"
   },
   {
    "duration": 13,
    "start_time": "2024-02-16T14:22:41.258Z"
   },
   {
    "duration": 20,
    "start_time": "2024-02-16T14:22:43.797Z"
   },
   {
    "duration": 26,
    "start_time": "2024-02-16T14:22:46.060Z"
   },
   {
    "duration": 3,
    "start_time": "2024-02-16T14:22:49.239Z"
   },
   {
    "duration": 10,
    "start_time": "2024-02-16T14:22:50.981Z"
   },
   {
    "duration": 6,
    "start_time": "2024-02-16T14:22:53.537Z"
   },
   {
    "duration": 3,
    "start_time": "2024-02-16T14:22:57.095Z"
   },
   {
    "duration": 9,
    "start_time": "2024-02-16T14:23:01.535Z"
   },
   {
    "duration": 7,
    "start_time": "2024-02-16T14:37:50.141Z"
   },
   {
    "duration": 7,
    "start_time": "2024-02-16T14:38:13.436Z"
   },
   {
    "duration": 4,
    "start_time": "2024-02-16T14:39:09.694Z"
   },
   {
    "duration": 4,
    "start_time": "2024-02-16T14:39:14.707Z"
   },
   {
    "duration": 4,
    "start_time": "2024-02-16T14:40:37.032Z"
   },
   {
    "duration": 4,
    "start_time": "2024-02-16T14:40:38.617Z"
   },
   {
    "duration": 5,
    "start_time": "2024-02-16T14:41:03.187Z"
   },
   {
    "duration": 11,
    "start_time": "2024-02-16T14:47:02.032Z"
   },
   {
    "duration": 5,
    "start_time": "2024-02-16T14:47:02.482Z"
   },
   {
    "duration": 4,
    "start_time": "2024-02-16T14:47:02.747Z"
   },
   {
    "duration": 4,
    "start_time": "2024-02-16T14:47:03.194Z"
   },
   {
    "duration": 6,
    "start_time": "2024-02-16T14:47:03.731Z"
   },
   {
    "duration": 7,
    "start_time": "2024-02-16T14:53:47.450Z"
   },
   {
    "duration": 3,
    "start_time": "2024-02-16T14:54:29.843Z"
   },
   {
    "duration": 3,
    "start_time": "2024-02-16T14:54:42.352Z"
   },
   {
    "duration": 3,
    "start_time": "2024-02-16T14:54:53.618Z"
   },
   {
    "duration": 5,
    "start_time": "2024-02-16T14:55:15.387Z"
   },
   {
    "duration": 12,
    "start_time": "2024-02-16T14:55:21.601Z"
   },
   {
    "duration": 5,
    "start_time": "2024-02-16T14:55:35.779Z"
   },
   {
    "duration": 11,
    "start_time": "2024-02-16T14:55:45.159Z"
   },
   {
    "duration": 8,
    "start_time": "2024-02-16T14:58:24.616Z"
   },
   {
    "duration": 4,
    "start_time": "2024-02-16T14:58:38.914Z"
   },
   {
    "duration": 4,
    "start_time": "2024-02-16T14:58:47.345Z"
   },
   {
    "duration": 3,
    "start_time": "2024-02-16T14:58:55.487Z"
   },
   {
    "duration": 7,
    "start_time": "2024-02-16T14:59:02.849Z"
   },
   {
    "duration": 53,
    "start_time": "2024-02-17T12:37:42.522Z"
   },
   {
    "duration": 9,
    "start_time": "2024-02-17T12:37:57.579Z"
   },
   {
    "duration": 6,
    "start_time": "2024-02-17T12:38:46.629Z"
   },
   {
    "duration": 6,
    "start_time": "2024-02-17T12:40:48.539Z"
   },
   {
    "duration": 706,
    "start_time": "2024-02-17T12:41:03.247Z"
   },
   {
    "duration": 23,
    "start_time": "2024-02-17T12:41:03.955Z"
   },
   {
    "duration": 17,
    "start_time": "2024-02-17T12:41:03.982Z"
   },
   {
    "duration": 10,
    "start_time": "2024-02-17T12:41:04.001Z"
   },
   {
    "duration": 37,
    "start_time": "2024-02-17T12:41:04.023Z"
   },
   {
    "duration": 3,
    "start_time": "2024-02-17T12:41:04.062Z"
   },
   {
    "duration": 19,
    "start_time": "2024-02-17T12:41:04.067Z"
   },
   {
    "duration": 6,
    "start_time": "2024-02-17T12:41:04.088Z"
   },
   {
    "duration": 24,
    "start_time": "2024-02-17T12:41:04.099Z"
   },
   {
    "duration": 4,
    "start_time": "2024-02-17T12:41:04.125Z"
   },
   {
    "duration": 50,
    "start_time": "2024-02-17T12:41:04.130Z"
   },
   {
    "duration": 10,
    "start_time": "2024-02-17T12:41:04.182Z"
   },
   {
    "duration": 12,
    "start_time": "2024-02-17T12:41:04.194Z"
   },
   {
    "duration": 24,
    "start_time": "2024-02-17T12:41:04.208Z"
   },
   {
    "duration": 35,
    "start_time": "2024-02-17T12:41:04.234Z"
   },
   {
    "duration": 18,
    "start_time": "2024-02-17T12:41:04.271Z"
   },
   {
    "duration": 3,
    "start_time": "2024-02-17T12:41:04.291Z"
   },
   {
    "duration": 25,
    "start_time": "2024-02-17T12:41:04.296Z"
   },
   {
    "duration": 17,
    "start_time": "2024-02-17T12:41:04.322Z"
   },
   {
    "duration": 12,
    "start_time": "2024-02-17T12:41:04.341Z"
   },
   {
    "duration": 21,
    "start_time": "2024-02-17T12:41:04.355Z"
   },
   {
    "duration": 31,
    "start_time": "2024-02-17T12:41:04.378Z"
   },
   {
    "duration": 20,
    "start_time": "2024-02-17T12:41:04.410Z"
   },
   {
    "duration": 18,
    "start_time": "2024-02-17T12:41:04.431Z"
   },
   {
    "duration": 14,
    "start_time": "2024-02-17T12:41:04.451Z"
   },
   {
    "duration": 15,
    "start_time": "2024-02-17T12:41:04.467Z"
   },
   {
    "duration": 31,
    "start_time": "2024-02-17T12:41:04.486Z"
   },
   {
    "duration": 19,
    "start_time": "2024-02-17T12:41:04.519Z"
   },
   {
    "duration": 17,
    "start_time": "2024-02-17T12:41:04.540Z"
   },
   {
    "duration": 15,
    "start_time": "2024-02-17T12:41:04.559Z"
   },
   {
    "duration": 25,
    "start_time": "2024-02-17T12:41:04.575Z"
   },
   {
    "duration": 21,
    "start_time": "2024-02-17T12:41:04.602Z"
   },
   {
    "duration": 20,
    "start_time": "2024-02-17T12:41:04.625Z"
   },
   {
    "duration": 19,
    "start_time": "2024-02-17T12:41:04.647Z"
   },
   {
    "duration": 75,
    "start_time": "2024-02-17T12:41:04.668Z"
   },
   {
    "duration": 27,
    "start_time": "2024-02-17T12:41:04.745Z"
   },
   {
    "duration": 21,
    "start_time": "2024-02-17T12:41:04.773Z"
   },
   {
    "duration": 14,
    "start_time": "2024-02-17T12:41:04.796Z"
   },
   {
    "duration": 11,
    "start_time": "2024-02-17T12:41:04.811Z"
   },
   {
    "duration": 11,
    "start_time": "2024-02-17T12:41:04.824Z"
   },
   {
    "duration": 23,
    "start_time": "2024-02-17T12:41:04.837Z"
   },
   {
    "duration": 7,
    "start_time": "2024-02-17T12:41:23.082Z"
   },
   {
    "duration": 67,
    "start_time": "2024-02-17T12:41:42.498Z"
   },
   {
    "duration": 77,
    "start_time": "2024-02-17T12:42:51.164Z"
   },
   {
    "duration": 69,
    "start_time": "2024-02-17T12:43:30.890Z"
   },
   {
    "duration": 75,
    "start_time": "2024-02-17T12:43:53.265Z"
   },
   {
    "duration": 79,
    "start_time": "2024-02-17T12:44:05.210Z"
   },
   {
    "duration": 78,
    "start_time": "2024-02-17T12:44:29.529Z"
   },
   {
    "duration": 77,
    "start_time": "2024-02-17T12:51:11.598Z"
   },
   {
    "duration": 71,
    "start_time": "2024-02-17T12:51:19.146Z"
   },
   {
    "duration": 94,
    "start_time": "2024-02-17T12:53:09.420Z"
   },
   {
    "duration": 7,
    "start_time": "2024-02-17T12:54:17.347Z"
   },
   {
    "duration": 7,
    "start_time": "2024-02-17T12:54:28.863Z"
   },
   {
    "duration": 7,
    "start_time": "2024-02-17T12:54:39.426Z"
   },
   {
    "duration": 99,
    "start_time": "2024-02-17T12:56:01.829Z"
   },
   {
    "duration": 72,
    "start_time": "2024-02-17T13:02:45.738Z"
   },
   {
    "duration": 115,
    "start_time": "2024-02-17T13:09:10.224Z"
   },
   {
    "duration": 72,
    "start_time": "2024-02-17T13:16:44.723Z"
   },
   {
    "duration": 4,
    "start_time": "2024-02-17T13:16:46.545Z"
   },
   {
    "duration": 88,
    "start_time": "2024-02-17T13:18:04.298Z"
   },
   {
    "duration": 570,
    "start_time": "2025-01-16T07:24:18.169Z"
   },
   {
    "duration": 23,
    "start_time": "2025-01-16T07:24:18.741Z"
   },
   {
    "duration": 24,
    "start_time": "2025-01-16T07:24:18.766Z"
   },
   {
    "duration": 48,
    "start_time": "2025-01-16T07:24:18.792Z"
   },
   {
    "duration": 38,
    "start_time": "2025-01-16T07:24:18.842Z"
   },
   {
    "duration": 3,
    "start_time": "2025-01-16T07:24:18.882Z"
   },
   {
    "duration": 26,
    "start_time": "2025-01-16T07:24:18.887Z"
   },
   {
    "duration": 3,
    "start_time": "2025-01-16T07:24:18.915Z"
   },
   {
    "duration": 10,
    "start_time": "2025-01-16T07:24:18.919Z"
   },
   {
    "duration": 5,
    "start_time": "2025-01-16T07:24:18.931Z"
   },
   {
    "duration": 45,
    "start_time": "2025-01-16T07:24:18.937Z"
   },
   {
    "duration": 11,
    "start_time": "2025-01-16T07:24:18.983Z"
   },
   {
    "duration": 30,
    "start_time": "2025-01-16T07:24:18.995Z"
   },
   {
    "duration": 15,
    "start_time": "2025-01-16T07:24:19.027Z"
   },
   {
    "duration": 19,
    "start_time": "2025-01-16T07:24:19.044Z"
   },
   {
    "duration": 16,
    "start_time": "2025-01-16T07:24:19.065Z"
   },
   {
    "duration": 3,
    "start_time": "2025-01-16T07:24:19.083Z"
   },
   {
    "duration": 20,
    "start_time": "2025-01-16T07:24:19.087Z"
   },
   {
    "duration": 6,
    "start_time": "2025-01-16T07:24:19.108Z"
   },
   {
    "duration": 6,
    "start_time": "2025-01-16T07:24:19.116Z"
   },
   {
    "duration": 83,
    "start_time": "2025-01-16T07:24:19.124Z"
   },
   {
    "duration": 9,
    "start_time": "2025-01-16T07:24:19.209Z"
   },
   {
    "duration": 3,
    "start_time": "2025-01-16T07:24:19.219Z"
   },
   {
    "duration": 9,
    "start_time": "2025-01-16T07:24:19.224Z"
   },
   {
    "duration": 14,
    "start_time": "2025-01-16T07:24:19.234Z"
   },
   {
    "duration": 76,
    "start_time": "2025-01-16T07:24:19.249Z"
   },
   {
    "duration": 15,
    "start_time": "2025-01-16T07:24:19.327Z"
   },
   {
    "duration": 4,
    "start_time": "2025-01-16T07:24:19.345Z"
   },
   {
    "duration": 19,
    "start_time": "2025-01-16T07:24:19.351Z"
   },
   {
    "duration": 17,
    "start_time": "2025-01-16T07:24:19.372Z"
   },
   {
    "duration": 7,
    "start_time": "2025-01-16T07:24:19.390Z"
   },
   {
    "duration": 28,
    "start_time": "2025-01-16T07:24:19.399Z"
   },
   {
    "duration": 12,
    "start_time": "2025-01-16T07:24:19.428Z"
   },
   {
    "duration": 9,
    "start_time": "2025-01-16T07:24:19.442Z"
   },
   {
    "duration": 7,
    "start_time": "2025-01-16T07:24:19.452Z"
   },
   {
    "duration": 16,
    "start_time": "2025-01-16T07:24:19.460Z"
   },
   {
    "duration": 19,
    "start_time": "2025-01-16T07:24:19.478Z"
   },
   {
    "duration": 12,
    "start_time": "2025-01-16T07:24:19.499Z"
   },
   {
    "duration": 11,
    "start_time": "2025-01-16T07:24:19.512Z"
   },
   {
    "duration": 17,
    "start_time": "2025-01-16T07:24:19.524Z"
   },
   {
    "duration": 103,
    "start_time": "2025-01-16T07:24:19.543Z"
   }
  ],
  "colab": {
   "name": "dpp_template_part2.ipynb",
   "provenance": []
  },
  "kernelspec": {
   "display_name": "Python 3 (ipykernel)",
   "language": "python",
   "name": "python3"
  },
  "language_info": {
   "codemirror_mode": {
    "name": "ipython",
    "version": 3
   },
   "file_extension": ".py",
   "mimetype": "text/x-python",
   "name": "python",
   "nbconvert_exporter": "python",
   "pygments_lexer": "ipython3",
   "version": "3.9.5"
  },
  "toc": {
   "base_numbering": 1,
   "nav_menu": {},
   "number_sections": true,
   "sideBar": true,
   "skip_h1_title": true,
   "title_cell": "Table of Contents",
   "title_sidebar": "Contents",
   "toc_cell": false,
   "toc_position": {},
   "toc_section_display": true,
   "toc_window_display": false
  }
 },
 "nbformat": 4,
 "nbformat_minor": 5
}
